{
 "cells": [
  {
   "attachments": {},
   "cell_type": "markdown",
   "metadata": {},
   "source": [
    "## Hackerrank Solution: Repeated String"
   ]
  },
  {
   "attachments": {},
   "cell_type": "markdown",
   "metadata": {},
   "source": [
    "### Original Problem"
   ]
  },
  {
   "attachments": {},
   "cell_type": "markdown",
   "metadata": {},
   "source": [
    "There is a string, *s*, of lowercase English letters that is repeated infinitely many times. Given an integer, *n*, find and print the number of letter a's in the first *n* letters of the infinite string."
   ]
  },
  {
   "attachments": {},
   "cell_type": "markdown",
   "metadata": {},
   "source": [
    "**Example**\n",
    "\n",
    "*s* = 'abcac'\n",
    "\n",
    "*n* = 10\n",
    "\n",
    "The substring we consider is *abcacabcac*, the first *10* characters of the infinite string. There are *4* occurrences of **a** in the substring.\n",
    "**Function Description**\n",
    "\n",
    "Complete the repeatedString function in the editor below.\n",
    "\n",
    "repeatedString has the following parameter(s):\n",
    "\n",
    "- s: a string to repeat\n",
    "- n: the number of characters to consider\n",
    "\n",
    "**Returns**\n",
    "\n",
    "int: the frequency of a in the substring\n",
    "\n",
    "**Input Format**\n",
    "\n",
    "The first line contains a single string, *s*.\n",
    "The second line contains an integer, *n*.\n",
    "\n",
    "**Constraints**\n",
    "$$\n",
    "1 \\leq |s| \\leq 100 \\\\ \n",
    "1 \\leq n \\leq 10^2 \\\\\n",
    "$$\n",
    "for *25%* of the test cases: $$ n \\leq 10^6 $$\n"
   ]
  },
  {
   "cell_type": "code",
   "execution_count": 3,
   "metadata": {},
   "outputs": [
    {
     "name": "stdout",
     "output_type": "stream",
     "text": [
      "The number of a's is 7\n"
     ]
    }
   ],
   "source": [
    "# Example for s = 'aba', n = 10:\n",
    "\n",
    "s = input('Type the string here: ')\n",
    "n = int(input('Type the number of characters to consider here '))\n",
    "def repeatedString(s, n):\n",
    "    r = 0                        # a's counter\n",
    "    l = len(s)\n",
    "    for i in range(0, l):\n",
    "        if s[i] == 'a':\n",
    "            r+= 1\n",
    "    r*= int(n / l)\n",
    "    for i in range(0, n % l):\n",
    "        if s[i] == 'a':\n",
    "            r+= 1\n",
    "    return r\n",
    "print(\"The number of a's is\", repeatedString(s,n))"
   ]
  },
  {
   "cell_type": "code",
   "execution_count": 2,
   "metadata": {},
   "outputs": [
    {
     "name": "stdout",
     "output_type": "stream",
     "text": [
      "7\n"
     ]
    }
   ],
   "source": [
    "s = \"aba\"\n",
    "n = 10\n",
    "number=s.count('a')\n",
    "if number==0:\n",
    "    print(0)\n",
    "elif number==1 and len(s)==1:\n",
    "    print(n)\n",
    "else:\n",
    "\n",
    "    #For Python3\n",
    "    repeats=n//len(s) \n",
    "    remainders=n%len(s)\n",
    "    #s=s*repeats + s[:remainders]\n",
    "    print(str(number*repeats+s[:remainders].count('a')))"
   ]
  }
 ],
 "metadata": {
  "kernelspec": {
   "display_name": "Python 3",
   "language": "python",
   "name": "python3"
  },
  "language_info": {
   "codemirror_mode": {
    "name": "ipython",
    "version": 3
   },
   "file_extension": ".py",
   "mimetype": "text/x-python",
   "name": "python",
   "nbconvert_exporter": "python",
   "pygments_lexer": "ipython3",
   "version": "3.11.0"
  },
  "orig_nbformat": 4,
  "vscode": {
   "interpreter": {
    "hash": "c261aea317cc0286b3b3261fbba9abdec21eaa57589985bb7a274bf54d6cc0a7"
   }
  }
 },
 "nbformat": 4,
 "nbformat_minor": 2
}
