{
 "cells": [
  {
   "attachments": {},
   "cell_type": "markdown",
   "metadata": {},
   "source": [
    "## Alternating Characters"
   ]
  },
  {
   "attachments": {},
   "cell_type": "markdown",
   "metadata": {},
   "source": [
    "A Shashank le gustan las cadenas donde los caracteres consecutivos son diferentes. Por ejemplo, le gusta *ABABA*, mientras que *ABAA* no le gusta. Dada una cadena que solamente contiene caracteres *A* y *B*, él quiere cambiarla a una cadena que le guste. Para hacerlo, solo se le permite borrar los caracteres en la cadena.\n",
    "\n",
    "Tu tarea es encontrar la mínima cantidad requerida de borrados.\n",
    "\n",
    "**Formato de Entrada** \n",
    "\n",
    "La primera linea contiene un enter *T* que quiere decir el número de casos de prueba. Luego siguen *T* lineas , con una cadena en cada linea.\n",
    "\n",
    "**Formato de Salida** \n",
    "\n",
    "Imprimie la mínima cantidad requerida de pasos en cada caso de prueba.\n",
    "\n",
    "**Restricciones**\n",
    "$$\n",
    "1 \\leq T \\leq 10 \\\\\n",
    "1 \\leq longitud \\leq 10^5\n",
    "$$\n",
    "\n",
    "**Ejemplo de Entrada**\n",
    "```\n",
    "5\n",
    "AAAA\n",
    "BBBBB\n",
    "ABABABAB\n",
    "BABABA\n",
    "AAABBB\n",
    "```\n",
    "\n",
    "**Ejemplo de Salida 00**\n",
    "```\n",
    "3\n",
    "4\n",
    "0\n",
    "0\n",
    "4\n",
    "```\n",
    "**Explicación**\n",
    "$$\n",
    "AAAA \\Rightarrow A, 3 \\: borrados \\\\\n",
    "BBBBB \\Rightarrow B, 4 \\: borrados \\\\\n",
    "ABABABAB \\Rightarrow ABABABAB, 0 \\: borrados \\\\\n",
    "AAABBB \\Rightarrow AB, 4 \\: borrados\n",
    "$$\n"
   ]
  },
  {
   "cell_type": "code",
   "execution_count": 1,
   "metadata": {},
   "outputs": [
    {
     "name": "stdout",
     "output_type": "stream",
     "text": [
      "AABBSBABABA\n",
      "2\n"
     ]
    }
   ],
   "source": [
    "\n",
    "import os\n",
    "\n",
    "# Complete the alternatingCharacters function below.\n",
    "\n",
    "s = input('Write your sentence here: ')\n",
    "print(s)\n",
    "def alternatingCharacters(s):\n",
    "    deleted_words = 0\n",
    "\n",
    "    for i in range(1, len(s)):\n",
    "        if s[i] == s[i-1]:\n",
    "            deleted_words += 1\n",
    "\n",
    "    return deleted_words\n",
    "print(alternatingCharacters(s))"
   ]
  }
 ],
 "metadata": {
  "kernelspec": {
   "display_name": "Python 3",
   "language": "python",
   "name": "python3"
  },
  "language_info": {
   "codemirror_mode": {
    "name": "ipython",
    "version": 3
   },
   "file_extension": ".py",
   "mimetype": "text/x-python",
   "name": "python",
   "nbconvert_exporter": "python",
   "pygments_lexer": "ipython3",
   "version": "3.11.0"
  },
  "orig_nbformat": 4,
  "vscode": {
   "interpreter": {
    "hash": "c261aea317cc0286b3b3261fbba9abdec21eaa57589985bb7a274bf54d6cc0a7"
   }
  }
 },
 "nbformat": 4,
 "nbformat_minor": 2
}
